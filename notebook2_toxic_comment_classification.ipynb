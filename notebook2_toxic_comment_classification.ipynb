{
  "metadata": {
    "kernelspec": {
      "language": "python",
      "display_name": "Python 3",
      "name": "python3"
    },
    "language_info": {
      "name": "python",
      "version": "3.7.6",
      "mimetype": "text/x-python",
      "codemirror_mode": {
        "name": "ipython",
        "version": 3
      },
      "pygments_lexer": "ipython3",
      "nbconvert_exporter": "python",
      "file_extension": ".py"
    },
    "colab": {
      "provenance": []
    }
  },
  "nbformat_minor": 0,
  "nbformat": 4,
  "cells": [
    {
      "cell_type": "code",
      "source": [
        "!pip install texthero"
      ],
      "metadata": {
        "execution": {
          "iopub.status.busy": "2023-06-22T05:25:21.199694Z",
          "iopub.execute_input": "2023-06-22T05:25:21.200177Z",
          "iopub.status.idle": "2023-06-22T05:25:32.115005Z",
          "shell.execute_reply.started": "2023-06-22T05:25:21.200127Z",
          "shell.execute_reply": "2023-06-22T05:25:32.113690Z"
        },
        "trusted": true,
        "id": "Fx9l7xaWm39o",
        "outputId": "eca16395-06bb-4d8f-d798-584b6b695a3f"
      },
      "execution_count": null,
      "outputs": [
        {
          "name": "stdout",
          "text": "Collecting texthero\n  Using cached texthero-1.1.0-py3-none-any.whl (24 kB)\nRequirement already satisfied: spacy<3.0.0 in /opt/conda/lib/python3.7/site-packages (from texthero) (2.2.3)\nRequirement already satisfied: gensim<4.0,>=3.6.0 in /opt/conda/lib/python3.7/site-packages (from texthero) (3.8.3)\nRequirement already satisfied: unidecode>=1.1.1 in /opt/conda/lib/python3.7/site-packages (from texthero) (1.1.1)\nRequirement already satisfied: scikit-learn>=0.22 in /opt/conda/lib/python3.7/site-packages (from texthero) (0.23.1)\nCollecting nltk>=3.3\n  Using cached nltk-3.8.1-py3-none-any.whl (1.5 MB)\nRequirement already satisfied: numpy>=1.17 in /opt/conda/lib/python3.7/site-packages (from texthero) (1.18.1)\nRequirement already satisfied: tqdm>=4.3 in /opt/conda/lib/python3.7/site-packages (from texthero) (4.45.0)\nRequirement already satisfied: wordcloud>=1.5.0 in /opt/conda/lib/python3.7/site-packages (from texthero) (1.7.0)\nRequirement already satisfied: matplotlib>=3.1.0 in /opt/conda/lib/python3.7/site-packages (from texthero) (3.2.1)\nRequirement already satisfied: plotly>=4.2.0 in /opt/conda/lib/python3.7/site-packages (from texthero) (4.8.1)\nRequirement already satisfied: pandas>=1.0.2 in /opt/conda/lib/python3.7/site-packages (from texthero) (1.0.3)\nRequirement already satisfied: setuptools in /opt/conda/lib/python3.7/site-packages (from spacy<3.0.0->texthero) (46.1.3.post20200325)\nRequirement already satisfied: wasabi<1.1.0,>=0.4.0 in /opt/conda/lib/python3.7/site-packages (from spacy<3.0.0->texthero) (0.6.0)\nRequirement already satisfied: cymem<2.1.0,>=2.0.2 in /opt/conda/lib/python3.7/site-packages (from spacy<3.0.0->texthero) (2.0.3)\nRequirement already satisfied: preshed<3.1.0,>=3.0.2 in /opt/conda/lib/python3.7/site-packages (from spacy<3.0.0->texthero) (3.0.2)\nRequirement already satisfied: plac<1.2.0,>=0.9.6 in /opt/conda/lib/python3.7/site-packages (from spacy<3.0.0->texthero) (0.9.6)\nRequirement already satisfied: requests<3.0.0,>=2.13.0 in /opt/conda/lib/python3.7/site-packages (from spacy<3.0.0->texthero) (2.23.0)\nRequirement already satisfied: murmurhash<1.1.0,>=0.28.0 in /opt/conda/lib/python3.7/site-packages (from spacy<3.0.0->texthero) (1.0.2)\nRequirement already satisfied: thinc<7.4.0,>=7.3.0 in /opt/conda/lib/python3.7/site-packages (from spacy<3.0.0->texthero) (7.3.1)\nRequirement already satisfied: srsly<1.1.0,>=0.1.0 in /opt/conda/lib/python3.7/site-packages (from spacy<3.0.0->texthero) (1.0.2)\nRequirement already satisfied: catalogue<1.1.0,>=0.0.7 in /opt/conda/lib/python3.7/site-packages (from spacy<3.0.0->texthero) (1.0.0)\nRequirement already satisfied: blis<0.5.0,>=0.4.0 in /opt/conda/lib/python3.7/site-packages (from spacy<3.0.0->texthero) (0.4.1)\nRequirement already satisfied: smart-open>=1.8.1 in /opt/conda/lib/python3.7/site-packages (from gensim<4.0,>=3.6.0->texthero) (2.0.0)\nRequirement already satisfied: scipy>=0.18.1 in /opt/conda/lib/python3.7/site-packages (from gensim<4.0,>=3.6.0->texthero) (1.4.1)\nRequirement already satisfied: six>=1.5.0 in /opt/conda/lib/python3.7/site-packages (from gensim<4.0,>=3.6.0->texthero) (1.14.0)\nRequirement already satisfied: threadpoolctl>=2.0.0 in /opt/conda/lib/python3.7/site-packages (from scikit-learn>=0.22->texthero) (2.1.0)\nRequirement already satisfied: joblib>=0.11 in /opt/conda/lib/python3.7/site-packages (from scikit-learn>=0.22->texthero) (0.14.1)\nRequirement already satisfied: click in /opt/conda/lib/python3.7/site-packages (from nltk>=3.3->texthero) (7.1.1)\nRequirement already satisfied: regex>=2021.8.3 in /opt/conda/lib/python3.7/site-packages (from nltk>=3.3->texthero) (2023.6.3)\nRequirement already satisfied: pillow in /opt/conda/lib/python3.7/site-packages (from wordcloud>=1.5.0->texthero) (5.4.1)\nRequirement already satisfied: python-dateutil>=2.1 in /opt/conda/lib/python3.7/site-packages (from matplotlib>=3.1.0->texthero) (2.8.1)\nRequirement already satisfied: cycler>=0.10 in /opt/conda/lib/python3.7/site-packages (from matplotlib>=3.1.0->texthero) (0.10.0)\nRequirement already satisfied: kiwisolver>=1.0.1 in /opt/conda/lib/python3.7/site-packages (from matplotlib>=3.1.0->texthero) (1.2.0)\nRequirement already satisfied: pyparsing!=2.0.4,!=2.1.2,!=2.1.6,>=2.0.1 in /opt/conda/lib/python3.7/site-packages (from matplotlib>=3.1.0->texthero) (2.4.7)\nRequirement already satisfied: retrying>=1.3.3 in /opt/conda/lib/python3.7/site-packages (from plotly>=4.2.0->texthero) (1.3.3)\nRequirement already satisfied: pytz>=2017.2 in /opt/conda/lib/python3.7/site-packages (from pandas>=1.0.2->texthero) (2019.3)\nRequirement already satisfied: urllib3!=1.25.0,!=1.25.1,<1.26,>=1.21.1 in /opt/conda/lib/python3.7/site-packages (from requests<3.0.0,>=2.13.0->spacy<3.0.0->texthero) (1.24.3)\nRequirement already satisfied: idna<3,>=2.5 in /opt/conda/lib/python3.7/site-packages (from requests<3.0.0,>=2.13.0->spacy<3.0.0->texthero) (2.9)\nRequirement already satisfied: chardet<4,>=3.0.2 in /opt/conda/lib/python3.7/site-packages (from requests<3.0.0,>=2.13.0->spacy<3.0.0->texthero) (3.0.4)\nRequirement already satisfied: certifi>=2017.4.17 in /opt/conda/lib/python3.7/site-packages (from requests<3.0.0,>=2.13.0->spacy<3.0.0->texthero) (2020.4.5.1)\nRequirement already satisfied: importlib-metadata>=0.20; python_version < \"3.8\" in /opt/conda/lib/python3.7/site-packages (from catalogue<1.1.0,>=0.0.7->spacy<3.0.0->texthero) (1.6.0)\nRequirement already satisfied: boto3 in /opt/conda/lib/python3.7/site-packages (from smart-open>=1.8.1->gensim<4.0,>=3.6.0->texthero) (1.13.23)\nRequirement already satisfied: boto in /opt/conda/lib/python3.7/site-packages (from smart-open>=1.8.1->gensim<4.0,>=3.6.0->texthero) (2.49.0)\nRequirement already satisfied: zipp>=0.5 in /opt/conda/lib/python3.7/site-packages (from importlib-metadata>=0.20; python_version < \"3.8\"->catalogue<1.1.0,>=0.0.7->spacy<3.0.0->texthero) (3.1.0)\nRequirement already satisfied: botocore<1.17.0,>=1.16.23 in /opt/conda/lib/python3.7/site-packages (from boto3->smart-open>=1.8.1->gensim<4.0,>=3.6.0->texthero) (1.16.23)\nRequirement already satisfied: jmespath<1.0.0,>=0.7.1 in /opt/conda/lib/python3.7/site-packages (from boto3->smart-open>=1.8.1->gensim<4.0,>=3.6.0->texthero) (0.10.0)\nRequirement already satisfied: s3transfer<0.4.0,>=0.3.0 in /opt/conda/lib/python3.7/site-packages (from boto3->smart-open>=1.8.1->gensim<4.0,>=3.6.0->texthero) (0.3.3)\nRequirement already satisfied: docutils<0.16,>=0.10 in /opt/conda/lib/python3.7/site-packages (from botocore<1.17.0,>=1.16.23->boto3->smart-open>=1.8.1->gensim<4.0,>=3.6.0->texthero) (0.15.2)\n\u001b[31mERROR: preprocessing 0.1.13 has requirement nltk==3.2.4, but you'll have nltk 3.8.1 which is incompatible.\u001b[0m\n\u001b[31mERROR: allennlp 0.9.0 has requirement spacy<2.2,>=2.1.0, but you'll have spacy 2.2.3 which is incompatible.\u001b[0m\nInstalling collected packages: nltk, texthero\nSuccessfully installed nltk-3.8.1 texthero-1.1.0\n\u001b[33mWARNING: You are using pip version 20.1.1; however, version 23.1.2 is available.\nYou should consider upgrading via the '/opt/conda/bin/python3.7 -m pip install --upgrade pip' command.\u001b[0m\n",
          "output_type": "stream"
        }
      ]
    },
    {
      "cell_type": "code",
      "source": [
        "import texthero as hero"
      ],
      "metadata": {
        "execution": {
          "iopub.status.busy": "2023-06-22T05:25:32.118030Z",
          "iopub.execute_input": "2023-06-22T05:25:32.118416Z",
          "iopub.status.idle": "2023-06-22T05:25:37.452552Z",
          "shell.execute_reply.started": "2023-06-22T05:25:32.118379Z",
          "shell.execute_reply": "2023-06-22T05:25:37.451430Z"
        },
        "trusted": true,
        "id": "rcwrZ1i0m39r"
      },
      "execution_count": null,
      "outputs": []
    },
    {
      "cell_type": "code",
      "source": [
        "import pandas as pd\n",
        "import numpy as np\n",
        "import matplotlib.pyplot as plt\n",
        "import seaborn as sns\n",
        "import re\n",
        "import string\n",
        "import sklearn\n",
        "import os\n",
        "import tensorflow as tf\n",
        "from tensorflow.keras.preprocessing.text import Tokenizer\n",
        "from tensorflow.keras.preprocessing.sequence import pad_sequences\n",
        "from tensorflow.keras.models import Sequential\n",
        "from tensorflow.keras.layers import Input,Dense, Bidirectional, Embedding, LSTM, BatchNormalization, Dropout\n",
        "from texthero import preprocessing\n",
        "from sklearn.model_selection import train_test_split\n",
        "from sklearn.preprocessing import LabelEncoder\n",
        "from keras.callbacks import ReduceLROnPlateau, EarlyStopping\n",
        "from tensorflow.keras.layers.experimental.preprocessing import TextVectorization"
      ],
      "metadata": {
        "execution": {
          "iopub.status.busy": "2023-06-22T05:25:37.454347Z",
          "iopub.execute_input": "2023-06-22T05:25:37.454715Z",
          "iopub.status.idle": "2023-06-22T05:25:43.634697Z",
          "shell.execute_reply.started": "2023-06-22T05:25:37.454679Z",
          "shell.execute_reply": "2023-06-22T05:25:43.633472Z"
        },
        "trusted": true,
        "id": "73zsx8WDm39s",
        "outputId": "0b93d62f-bf14-433d-f8f1-610346e38342"
      },
      "execution_count": null,
      "outputs": [
        {
          "name": "stderr",
          "text": "Using TensorFlow backend.\n",
          "output_type": "stream"
        }
      ]
    },
    {
      "cell_type": "code",
      "source": [
        "df_train=pd.read_csv('/kaggle/input/jigsaw-toxic-comment-classification-challenge/train.csv.zip')\n",
        "df_test = pd.read_csv('/kaggle/input/jigsaw-toxic-comment-classification-challenge/test.csv.zip')"
      ],
      "metadata": {
        "execution": {
          "iopub.status.busy": "2023-06-22T05:25:43.636499Z",
          "iopub.execute_input": "2023-06-22T05:25:43.636872Z",
          "iopub.status.idle": "2023-06-22T05:25:47.286364Z",
          "shell.execute_reply.started": "2023-06-22T05:25:43.636838Z",
          "shell.execute_reply": "2023-06-22T05:25:47.285038Z"
        },
        "trusted": true,
        "id": "pW5ZEGkZm39s"
      },
      "execution_count": null,
      "outputs": []
    },
    {
      "cell_type": "code",
      "source": [
        "train, test = train_test_split(df_train, test_size = 0.3, random_state = 1)\n",
        "print(\"Train:\", train.shape)\n",
        "print(\"Test:\", test.shape)"
      ],
      "metadata": {
        "execution": {
          "iopub.status.busy": "2023-06-22T05:25:47.290333Z",
          "iopub.execute_input": "2023-06-22T05:25:47.290753Z",
          "iopub.status.idle": "2023-06-22T05:25:47.345005Z",
          "shell.execute_reply.started": "2023-06-22T05:25:47.290711Z",
          "shell.execute_reply": "2023-06-22T05:25:47.343832Z"
        },
        "trusted": true,
        "id": "dhXTECJnm39t",
        "outputId": "3dad9077-96dd-4727-b13b-6c571b11cb57"
      },
      "execution_count": null,
      "outputs": [
        {
          "name": "stdout",
          "text": "Train: (111699, 8)\nTest: (47872, 8)\n",
          "output_type": "stream"
        }
      ]
    },
    {
      "cell_type": "markdown",
      "source": [
        "#### Preprocessing : Cleaning the comments using texthero\n",
        "\n",
        "https://texthero.org/docs/getting-started"
      ],
      "metadata": {
        "id": "9hdr6hvPm39t"
      }
    },
    {
      "cell_type": "code",
      "source": [
        "pipeline = [preprocessing.remove_digits, # Remove all blocks of digits\n",
        "            preprocessing.remove_punctuation, # Remove all string.punctuation\n",
        "            preprocessing.remove_diacritics,# Remove all accents from strings\n",
        "            preprocessing.remove_whitespace, # Remove all white space between words\n",
        "            preprocessing.remove_urls, # Remove urls\n",
        "           ]\n",
        "\n",
        "df_train = hero.clean(train['comment_text'], pipeline)\n",
        "df_test = hero.clean(test['comment_text'], pipeline)\n"
      ],
      "metadata": {
        "execution": {
          "iopub.status.busy": "2023-06-22T05:25:47.348386Z",
          "iopub.execute_input": "2023-06-22T05:25:47.348779Z",
          "iopub.status.idle": "2023-06-22T05:26:11.655503Z",
          "shell.execute_reply.started": "2023-06-22T05:25:47.348740Z",
          "shell.execute_reply": "2023-06-22T05:26:11.654492Z"
        },
        "trusted": true,
        "id": "VkbhhyWQm39u"
      },
      "execution_count": null,
      "outputs": []
    },
    {
      "cell_type": "code",
      "source": [
        "target = ['toxic','severe_toxic', 'obscene', 'threat', 'insult', 'identity_hate']\n",
        "y_train = train[target]\n",
        "y_test = test[target]"
      ],
      "metadata": {
        "execution": {
          "iopub.status.busy": "2023-06-22T05:26:11.656916Z",
          "iopub.execute_input": "2023-06-22T05:26:11.657381Z",
          "iopub.status.idle": "2023-06-22T05:26:11.672293Z",
          "shell.execute_reply.started": "2023-06-22T05:26:11.657347Z",
          "shell.execute_reply": "2023-06-22T05:26:11.670937Z"
        },
        "trusted": true,
        "id": "uIe3k-gSm39u"
      },
      "execution_count": null,
      "outputs": []
    },
    {
      "cell_type": "code",
      "source": [
        "VOCAB_SIZE = 10000\n",
        "tokenizer = Tokenizer(num_words=VOCAB_SIZE, oov_token='')\n",
        "tokenizer.fit_on_texts(df_train.values)"
      ],
      "metadata": {
        "execution": {
          "iopub.status.busy": "2023-06-22T05:26:11.673967Z",
          "iopub.execute_input": "2023-06-22T05:26:11.674485Z",
          "iopub.status.idle": "2023-06-22T05:26:20.677836Z",
          "shell.execute_reply.started": "2023-06-22T05:26:11.674427Z",
          "shell.execute_reply": "2023-06-22T05:26:20.676609Z"
        },
        "trusted": true,
        "id": "V_Jb0VXIm39v"
      },
      "execution_count": null,
      "outputs": []
    },
    {
      "cell_type": "markdown",
      "source": [
        "#### Generating tokens: Break up sentences and paragraphs into smaller units so that meaning can be more easily ascribed."
      ],
      "metadata": {
        "id": "aUdxokeqm39v"
      }
    },
    {
      "cell_type": "code",
      "source": [
        "train_tokens = tokenizer.texts_to_sequences(df_train.values)\n",
        "test_tokens = tokenizer.texts_to_sequences(df_test.values)"
      ],
      "metadata": {
        "execution": {
          "iopub.status.busy": "2023-06-22T05:26:20.679137Z",
          "iopub.execute_input": "2023-06-22T05:26:20.679464Z",
          "iopub.status.idle": "2023-06-22T05:26:30.771167Z",
          "shell.execute_reply.started": "2023-06-22T05:26:20.679433Z",
          "shell.execute_reply": "2023-06-22T05:26:30.770074Z"
        },
        "trusted": true,
        "id": "VT2lbkALm39v"
      },
      "execution_count": null,
      "outputs": []
    },
    {
      "cell_type": "code",
      "source": [
        "text_lengths = [len(seq) for seq in train_tokens]\n",
        "plt.hist(text_lengths, bins=100);\n",
        "plt.title(\"Distribution of text lengths in train data\");\n",
        "plt.xlabel('Text Lengths');\n",
        "plt.ylabel(\"Number of Comments\");"
      ],
      "metadata": {
        "execution": {
          "iopub.status.busy": "2023-06-22T05:26:30.772363Z",
          "iopub.execute_input": "2023-06-22T05:26:30.772690Z",
          "iopub.status.idle": "2023-06-22T05:26:31.265160Z",
          "shell.execute_reply.started": "2023-06-22T05:26:30.772659Z",
          "shell.execute_reply": "2023-06-22T05:26:31.264024Z"
        },
        "trusted": true,
        "id": "VAsCcMcAm39w",
        "outputId": "943e0215-1350-4587-c635-b91db6f8b54b"
      },
      "execution_count": null,
      "outputs": [
        {
          "output_type": "display_data",
          "data": {
            "text/plain": "<Figure size 432x288 with 1 Axes>",
            "image/png": "[encoded data removed]"
          },
          "metadata": {
            "needs_background": "light"
          }
        }
      ]
    },
    {
      "cell_type": "markdown",
      "source": [
        "#### Maximum comments are less than 150 and very few are more than 400 text length"
      ],
      "metadata": {
        "id": "5t2ngWvTm39w"
      }
    },
    {
      "cell_type": "code",
      "source": [
        "print(f'Mean length of text sequences: {np.mean(text_lengths)}') # mean length"
      ],
      "metadata": {
        "execution": {
          "iopub.status.busy": "2023-06-22T05:26:31.266968Z",
          "iopub.execute_input": "2023-06-22T05:26:31.267710Z",
          "iopub.status.idle": "2023-06-22T05:26:31.298182Z",
          "shell.execute_reply.started": "2023-06-22T05:26:31.267630Z",
          "shell.execute_reply": "2023-06-22T05:26:31.297290Z"
        },
        "trusted": true,
        "id": "hWO3hvyVm39w",
        "outputId": "0981079b-a6f6-4137-bcbe-bd7d63f9d5bd"
      },
      "execution_count": null,
      "outputs": [
        {
          "name": "stdout",
          "text": "Mean length of text sequences: 68.10441454265481\n",
          "output_type": "stream"
        }
      ]
    },
    {
      "cell_type": "markdown",
      "source": [
        "#### Padding to ensure that the input data is exactly the size and shape that the model expects."
      ],
      "metadata": {
        "id": "BnL9nMgLm39w"
      }
    },
    {
      "cell_type": "code",
      "source": [
        "sequence_length = 300\n",
        "X_train_seq = pad_sequences(train_tokens, maxlen = sequence_length,padding='post',truncating='post')\n",
        "X_test_seq = pad_sequences(test_tokens, maxlen = sequence_length,padding='post',truncating='post')"
      ],
      "metadata": {
        "execution": {
          "iopub.status.busy": "2023-06-22T05:26:31.299656Z",
          "iopub.execute_input": "2023-06-22T05:26:31.300308Z",
          "iopub.status.idle": "2023-06-22T05:26:34.571028Z",
          "shell.execute_reply.started": "2023-06-22T05:26:31.300268Z",
          "shell.execute_reply": "2023-06-22T05:26:34.569798Z"
        },
        "trusted": true,
        "id": "6PeoDoCbm39w"
      },
      "execution_count": null,
      "outputs": []
    },
    {
      "cell_type": "markdown",
      "source": [
        "#### LSTM preferred because: The \"memory state\" of the network, or \"cell state,\" that memorizes data from earlier steps, is the fundamental concept of the LSTM which is helpful for comments classification."
      ],
      "metadata": {
        "id": "bZM1OvWOm39w"
      }
    },
    {
      "cell_type": "code",
      "source": [
        "model = Sequential()\n",
        "model.add(Input(shape=(None,)))\n",
        "\n",
        "# adding Embedding layer\n",
        "model.add(Embedding(input_dim=VOCAB_SIZE+1, output_dim=300,\n",
        "                    input_length=pad_sequences, mask_zero=True))\n",
        "# adding Dense layer\n",
        "model.add(LSTM(units= 30, dropout=0.2, return_sequences=False))\n",
        "model.add(Dense(256, activation='relu'))\n",
        "model.add(BatchNormalization())\n",
        "model.add(Dense(64, activation='relu'))\n",
        "model.add(BatchNormalization())\n",
        "model.add(Dropout(0.2))    # adding Dropout layer\n",
        "model.add(Dense(6, activation='sigmoid'))\n",
        "\n",
        "model.summary()"
      ],
      "metadata": {
        "execution": {
          "iopub.status.busy": "2023-06-22T05:26:34.572687Z",
          "iopub.execute_input": "2023-06-22T05:26:34.573062Z",
          "iopub.status.idle": "2023-06-22T05:26:36.170133Z",
          "shell.execute_reply.started": "2023-06-22T05:26:34.573024Z",
          "shell.execute_reply": "2023-06-22T05:26:36.168889Z"
        },
        "trusted": true,
        "id": "eh6VLFFLm39w",
        "outputId": "65ca7a88-90c2-493a-a370-dec3921c9144"
      },
      "execution_count": null,
      "outputs": [
        {
          "name": "stdout",
          "text": "Model: \"sequential\"\n_________________________________________________________________\nLayer (type)                 Output Shape              Param #   \n=================================================================\nembedding (Embedding)        (None, None, 300)         3000300   \n_________________________________________________________________\nlstm (LSTM)                  (None, 30)                39720     \n_________________________________________________________________\ndense (Dense)                (None, 256)               7936      \n_________________________________________________________________\nbatch_normalization (BatchNo (None, 256)               1024      \n_________________________________________________________________\ndense_1 (Dense)              (None, 64)                16448     \n_________________________________________________________________\nbatch_normalization_1 (Batch (None, 64)                256       \n_________________________________________________________________\ndropout (Dropout)            (None, 64)                0         \n_________________________________________________________________\ndense_2 (Dense)              (None, 6)                 390       \n=================================================================\nTotal params: 3,066,074\nTrainable params: 3,065,434\nNon-trainable params: 640\n_________________________________________________________________\n",
          "output_type": "stream"
        }
      ]
    },
    {
      "cell_type": "code",
      "source": [
        "model.compile( optimizer = \"adam\" , loss = 'binary_crossentropy' , metrics = ['accuracy'] )"
      ],
      "metadata": {
        "execution": {
          "iopub.status.busy": "2023-06-22T05:26:36.171721Z",
          "iopub.execute_input": "2023-06-22T05:26:36.172141Z",
          "iopub.status.idle": "2023-06-22T05:26:36.196475Z",
          "shell.execute_reply.started": "2023-06-22T05:26:36.172104Z",
          "shell.execute_reply": "2023-06-22T05:26:36.195367Z"
        },
        "trusted": true,
        "id": "BAt794WGm39x"
      },
      "execution_count": null,
      "outputs": []
    },
    {
      "cell_type": "code",
      "source": [
        "train_history = model.fit(X_train_seq, y_train,batch_size=32,epochs = 2)"
      ],
      "metadata": {
        "execution": {
          "iopub.status.busy": "2023-06-22T05:26:36.197626Z",
          "iopub.execute_input": "2023-06-22T05:26:36.198008Z",
          "iopub.status.idle": "2023-06-22T05:56:02.581059Z",
          "shell.execute_reply.started": "2023-06-22T05:26:36.197973Z",
          "shell.execute_reply": "2023-06-22T05:56:02.579863Z"
        },
        "trusted": true,
        "id": "LPS3khf1m39x",
        "outputId": "ed71f7c6-9b83-4189-cd11-bb874db57ca4"
      },
      "execution_count": null,
      "outputs": [
        {
          "name": "stdout",
          "text": "Epoch 1/2\n3491/3491 [==============================] - 881s 252ms/step - loss: 0.1018 - accuracy: 0.8250\nEpoch 2/2\n3491/3491 [==============================] - 879s 252ms/step - loss: 0.0525 - accuracy: 0.9766\n",
          "output_type": "stream"
        }
      ]
    },
    {
      "cell_type": "code",
      "source": [
        "score = model.evaluate(X_test_seq, y_test)\n",
        "print(\"Test Loss:\", score[0])\n",
        "print(\"Test Accuracy:\", score[1])"
      ],
      "metadata": {
        "execution": {
          "iopub.status.busy": "2023-06-22T05:56:02.583633Z",
          "iopub.execute_input": "2023-06-22T05:56:02.584042Z",
          "iopub.status.idle": "2023-06-22T05:57:10.765884Z",
          "shell.execute_reply.started": "2023-06-22T05:56:02.584006Z",
          "shell.execute_reply": "2023-06-22T05:57:10.764780Z"
        },
        "trusted": true,
        "id": "EIFD5r9Fm39x",
        "outputId": "447f37a6-d4d8-4070-92e5-2dd77f7f32a0"
      },
      "execution_count": null,
      "outputs": [
        {
          "name": "stdout",
          "text": "1496/1496 [==============================] - 67s 45ms/step - loss: 0.0538 - accuracy: 0.9912\nTest Loss: 0.05381278693675995\nTest Accuracy: 0.9912266135215759\n",
          "output_type": "stream"
        }
      ]
    },
    {
      "cell_type": "code",
      "source": [
        "df_test = pd.read_csv('/kaggle/input/jigsaw-toxic-comment-classification-challenge/test.csv.zip')"
      ],
      "metadata": {
        "execution": {
          "iopub.status.busy": "2023-06-22T05:57:10.767033Z",
          "iopub.execute_input": "2023-06-22T05:57:10.767335Z",
          "iopub.status.idle": "2023-06-22T05:57:12.035365Z",
          "shell.execute_reply.started": "2023-06-22T05:57:10.767304Z",
          "shell.execute_reply": "2023-06-22T05:57:12.034052Z"
        },
        "trusted": true,
        "id": "NaKjVVZym39x"
      },
      "execution_count": null,
      "outputs": []
    },
    {
      "cell_type": "code",
      "source": [
        "df_test.head()"
      ],
      "metadata": {
        "execution": {
          "iopub.status.busy": "2023-06-22T05:57:12.039268Z",
          "iopub.execute_input": "2023-06-22T05:57:12.039741Z",
          "iopub.status.idle": "2023-06-22T05:57:12.054827Z",
          "shell.execute_reply.started": "2023-06-22T05:57:12.039698Z",
          "shell.execute_reply": "2023-06-22T05:57:12.053661Z"
        },
        "trusted": true,
        "id": "1pZDWPCTm39x",
        "outputId": "ad20946e-0d9a-4fd5-bdf8-63006a8c6742"
      },
      "execution_count": null,
      "outputs": [
        {
          "execution_count": 21,
          "output_type": "execute_result",
          "data": {
            "text/plain": "                 id                                       comment_text\n0  00001cee341fdb12  Yo bitch Ja Rule is more succesful then you'll...\n1  0000247867823ef7  == From RfC == \\n\\n The title is fine as it is...\n2  00013b17ad220c46  \" \\n\\n == Sources == \\n\\n * Zawe Ashton on Lap...\n3  00017563c3f7919a  :If you have a look back at the source, the in...\n4  00017695ad8997eb          I don't anonymously edit articles at all.",
            "text/html": "<div>\n<style scoped>\n    .dataframe tbody tr th:only-of-type {\n        vertical-align: middle;\n    }\n\n    .dataframe tbody tr th {\n        vertical-align: top;\n    }\n\n    .dataframe thead th {\n        text-align: right;\n    }\n</style>\n<table border=\"1\" class=\"dataframe\">\n  <thead>\n    <tr style=\"text-align: right;\">\n      <th></th>\n      <th>id</th>\n      <th>comment_text</th>\n    </tr>\n  </thead>\n  <tbody>\n    <tr>\n      <th>0</th>\n      <td>00001cee341fdb12</td>\n      <td>Yo bitch Ja Rule is more succesful then you'll...</td>\n    </tr>\n    <tr>\n      <th>1</th>\n      <td>0000247867823ef7</td>\n      <td>== From RfC == \\n\\n The title is fine as it is...</td>\n    </tr>\n    <tr>\n      <th>2</th>\n      <td>00013b17ad220c46</td>\n      <td>\" \\n\\n == Sources == \\n\\n * Zawe Ashton on Lap...</td>\n    </tr>\n    <tr>\n      <th>3</th>\n      <td>00017563c3f7919a</td>\n      <td>:If you have a look back at the source, the in...</td>\n    </tr>\n    <tr>\n      <th>4</th>\n      <td>00017695ad8997eb</td>\n      <td>I don't anonymously edit articles at all.</td>\n    </tr>\n  </tbody>\n</table>\n</div>"
          },
          "metadata": {}
        }
      ]
    },
    {
      "cell_type": "code",
      "source": [
        "df_test.tail()"
      ],
      "metadata": {
        "execution": {
          "iopub.status.busy": "2023-06-22T05:57:12.056436Z",
          "iopub.execute_input": "2023-06-22T05:57:12.056944Z",
          "iopub.status.idle": "2023-06-22T05:57:12.070473Z",
          "shell.execute_reply.started": "2023-06-22T05:57:12.056906Z",
          "shell.execute_reply": "2023-06-22T05:57:12.069249Z"
        },
        "trusted": true,
        "id": "7sLNeVqgm39x",
        "outputId": "30da70fa-3349-49e0-dde8-e6dc3a086f5b"
      },
      "execution_count": null,
      "outputs": [
        {
          "execution_count": 22,
          "output_type": "execute_result",
          "data": {
            "text/plain": "                      id                                       comment_text\n153159  fffcd0960ee309b5  . \\n i totally agree, this stuff is nothing bu...\n153160  fffd7a9a6eb32c16  == Throw from out field to home plate. == \\n\\n...\n153161  fffda9e8d6fafa9e  \" \\n\\n == Okinotorishima categories == \\n\\n I ...\n153162  fffe8f1340a79fc2  \" \\n\\n == \"\"One of the founding nations of the...\n153163  ffffce3fb183ee80  \" \\n :::Stop already. Your bullshit is not wel...",
            "text/html": "<div>\n<style scoped>\n    .dataframe tbody tr th:only-of-type {\n        vertical-align: middle;\n    }\n\n    .dataframe tbody tr th {\n        vertical-align: top;\n    }\n\n    .dataframe thead th {\n        text-align: right;\n    }\n</style>\n<table border=\"1\" class=\"dataframe\">\n  <thead>\n    <tr style=\"text-align: right;\">\n      <th></th>\n      <th>id</th>\n      <th>comment_text</th>\n    </tr>\n  </thead>\n  <tbody>\n    <tr>\n      <th>153159</th>\n      <td>fffcd0960ee309b5</td>\n      <td>. \\n i totally agree, this stuff is nothing bu...</td>\n    </tr>\n    <tr>\n      <th>153160</th>\n      <td>fffd7a9a6eb32c16</td>\n      <td>== Throw from out field to home plate. == \\n\\n...</td>\n    </tr>\n    <tr>\n      <th>153161</th>\n      <td>fffda9e8d6fafa9e</td>\n      <td>\" \\n\\n == Okinotorishima categories == \\n\\n I ...</td>\n    </tr>\n    <tr>\n      <th>153162</th>\n      <td>fffe8f1340a79fc2</td>\n      <td>\" \\n\\n == \"\"One of the founding nations of the...</td>\n    </tr>\n    <tr>\n      <th>153163</th>\n      <td>ffffce3fb183ee80</td>\n      <td>\" \\n :::Stop already. Your bullshit is not wel...</td>\n    </tr>\n  </tbody>\n</table>\n</div>"
          },
          "metadata": {}
        }
      ]
    },
    {
      "cell_type": "code",
      "source": [
        "df_test['comment_text'][0]"
      ],
      "metadata": {
        "execution": {
          "iopub.status.busy": "2023-06-22T05:57:12.072367Z",
          "iopub.execute_input": "2023-06-22T05:57:12.072816Z",
          "iopub.status.idle": "2023-06-22T05:57:12.093336Z",
          "shell.execute_reply.started": "2023-06-22T05:57:12.072775Z",
          "shell.execute_reply": "2023-06-22T05:57:12.092241Z"
        },
        "trusted": true,
        "id": "6I1Nie-fm39x",
        "outputId": "b762fcd7-d175-44cc-c655-d0f181b59ddc"
      },
      "execution_count": null,
      "outputs": [
        {
          "execution_count": 23,
          "output_type": "execute_result",
          "data": {
            "text/plain": "\"Yo bitch Ja Rule is more succesful then you'll ever be whats up with you and hating you sad mofuckas...i should bitch slap ur pethedic white faces and get you to kiss my ass you guys sicken me. Ja rule is about pride in da music man. dont diss that shit on him. and nothin is wrong bein like tupac he was a brother too...fuckin white boys get things right next time.,\""
          },
          "metadata": {}
        }
      ]
    },
    {
      "cell_type": "code",
      "source": [
        "df_test_test = hero.clean(df_test['comment_text'], pipeline)\n",
        "test_test_tokens = tokenizer.texts_to_sequences(df_test_test.values)\n",
        "X_test_test__seq = pad_sequences(test_test_tokens, maxlen = sequence_length,padding='post',truncating='post')\n",
        "y_test_prob = model.predict(X_test_test__seq)\n"
      ],
      "metadata": {
        "execution": {
          "iopub.status.busy": "2023-06-22T05:57:12.094795Z",
          "iopub.execute_input": "2023-06-22T05:57:12.095196Z",
          "iopub.status.idle": "2023-06-22T06:01:31.977366Z",
          "shell.execute_reply.started": "2023-06-22T05:57:12.095162Z",
          "shell.execute_reply": "2023-06-22T06:01:31.976354Z"
        },
        "trusted": true,
        "id": "cRVaJTYEm39x"
      },
      "execution_count": null,
      "outputs": []
    },
    {
      "cell_type": "code",
      "source": [
        "print(y_test_prob)"
      ],
      "metadata": {
        "trusted": true,
        "id": "cu9PdR-Gm39x",
        "outputId": "68626776-52ee-47f3-fc8e-df23834eb4aa"
      },
      "execution_count": null,
      "outputs": [
        {
          "execution_count": 31,
          "output_type": "execute_result",
          "data": {
            "text/plain": "array([[9.80697393e-01, 2.51609206e-01, 9.71122742e-01, 1.36187077e-02,\n        8.32509875e-01, 7.13480711e-02],\n       [6.56917618e-05, 1.11135944e-06, 5.37240794e-06, 2.24305177e-06,\n        1.39645917e-05, 2.03549007e-05],\n       [4.30826843e-02, 2.22772360e-04, 3.96519899e-03, 1.38863921e-03,\n        6.27708435e-03, 5.00899553e-03],\n       ...,\n       [1.16578267e-04, 1.32103314e-05, 9.94610491e-06, 3.03144998e-06,\n        2.01083603e-05, 1.06370535e-05],\n       [6.40797615e-03, 1.62839890e-04, 6.17057085e-04, 1.19380864e-04,\n        1.26454234e-03, 8.27848911e-04],\n       [8.70893717e-01, 4.23313081e-02, 5.27434289e-01, 1.92972422e-02,\n        4.95283544e-01, 9.00343060e-02]], dtype=float32)"
          },
          "metadata": {}
        }
      ]
    },
    {
      "cell_type": "code",
      "source": [
        "y_test_prob_df = pd.DataFrame(y_test_prob)"
      ],
      "metadata": {
        "execution": {
          "iopub.status.busy": "2023-06-22T06:08:50.981619Z",
          "iopub.execute_input": "2023-06-22T06:08:50.982069Z",
          "iopub.status.idle": "2023-06-22T06:08:50.987176Z",
          "shell.execute_reply.started": "2023-06-22T06:08:50.982035Z",
          "shell.execute_reply": "2023-06-22T06:08:50.986126Z"
        },
        "trusted": true,
        "id": "TIWYhklIm39y"
      },
      "execution_count": null,
      "outputs": []
    },
    {
      "cell_type": "code",
      "source": [
        "y_test_prob_df.rename(columns={\"0\": \"toxic\", \"1\": \"severe_toxic\",\"2\": \"obscene\", \"3\": \"threat\",\"4\": \"insult\", \"5\": \"identity_hate\"})\n",
        "y_test_prob_df.head()"
      ],
      "metadata": {
        "execution": {
          "iopub.status.busy": "2023-06-22T06:12:51.449522Z",
          "iopub.execute_input": "2023-06-22T06:12:51.450022Z",
          "iopub.status.idle": "2023-06-22T06:12:51.472449Z",
          "shell.execute_reply.started": "2023-06-22T06:12:51.449984Z",
          "shell.execute_reply": "2023-06-22T06:12:51.471244Z"
        },
        "trusted": true,
        "id": "P2g_-MX1m39y",
        "outputId": "076bf6eb-639c-4899-85ae-d3bb49a49333"
      },
      "execution_count": null,
      "outputs": [
        {
          "execution_count": 36,
          "output_type": "execute_result",
          "data": {
            "text/plain": "          0         1         2         3         4         5\n0  0.980697  0.251609  0.971123  0.013619  0.832510  0.071348\n1  0.000066  0.000001  0.000005  0.000002  0.000014  0.000020\n2  0.043083  0.000223  0.003965  0.001389  0.006277  0.005009\n3  0.000153  0.000005  0.000012  0.000007  0.000034  0.000049\n4  0.048337  0.000103  0.003612  0.000938  0.005712  0.003460",
            "text/html": "<div>\n<style scoped>\n    .dataframe tbody tr th:only-of-type {\n        vertical-align: middle;\n    }\n\n    .dataframe tbody tr th {\n        vertical-align: top;\n    }\n\n    .dataframe thead th {\n        text-align: right;\n    }\n</style>\n<table border=\"1\" class=\"dataframe\">\n  <thead>\n    <tr style=\"text-align: right;\">\n      <th></th>\n      <th>0</th>\n      <th>1</th>\n      <th>2</th>\n      <th>3</th>\n      <th>4</th>\n      <th>5</th>\n    </tr>\n  </thead>\n  <tbody>\n    <tr>\n      <th>0</th>\n      <td>0.980697</td>\n      <td>0.251609</td>\n      <td>0.971123</td>\n      <td>0.013619</td>\n      <td>0.832510</td>\n      <td>0.071348</td>\n    </tr>\n    <tr>\n      <th>1</th>\n      <td>0.000066</td>\n      <td>0.000001</td>\n      <td>0.000005</td>\n      <td>0.000002</td>\n      <td>0.000014</td>\n      <td>0.000020</td>\n    </tr>\n    <tr>\n      <th>2</th>\n      <td>0.043083</td>\n      <td>0.000223</td>\n      <td>0.003965</td>\n      <td>0.001389</td>\n      <td>0.006277</td>\n      <td>0.005009</td>\n    </tr>\n    <tr>\n      <th>3</th>\n      <td>0.000153</td>\n      <td>0.000005</td>\n      <td>0.000012</td>\n      <td>0.000007</td>\n      <td>0.000034</td>\n      <td>0.000049</td>\n    </tr>\n    <tr>\n      <th>4</th>\n      <td>0.048337</td>\n      <td>0.000103</td>\n      <td>0.003612</td>\n      <td>0.000938</td>\n      <td>0.005712</td>\n      <td>0.003460</td>\n    </tr>\n  </tbody>\n</table>\n</div>"
          },
          "metadata": {}
        }
      ]
    },
    {
      "cell_type": "code",
      "source": [
        "Result_binary = pd.read_csv('/kaggle/input/jigsaw-toxic-comment-classification-challenge/sample_submission.csv.zip')\n",
        "for com in target:\n",
        "        Result_binary[com] = y_test_prob\n"
      ],
      "metadata": {
        "execution": {
          "iopub.status.busy": "2023-06-22T06:01:31.990846Z",
          "iopub.execute_input": "2023-06-22T06:01:31.991877Z",
          "iopub.status.idle": "2023-06-22T06:01:32.337737Z",
          "shell.execute_reply.started": "2023-06-22T06:01:31.991821Z",
          "shell.execute_reply": "2023-06-22T06:01:32.336379Z"
        },
        "trusted": true,
        "id": "oCrmkBf1m39y"
      },
      "execution_count": null,
      "outputs": []
    },
    {
      "cell_type": "code",
      "source": [
        "Result_binary.to_csv('submission_binary.csv',index=False)"
      ],
      "metadata": {
        "execution": {
          "iopub.status.busy": "2023-06-22T06:04:03.037965Z",
          "iopub.execute_input": "2023-06-22T06:04:03.038884Z",
          "iopub.status.idle": "2023-06-22T06:04:05.228461Z",
          "shell.execute_reply.started": "2023-06-22T06:04:03.038794Z",
          "shell.execute_reply": "2023-06-22T06:04:05.226819Z"
        },
        "trusted": true,
        "id": "0JwBKQQSm39y"
      },
      "execution_count": null,
      "outputs": []
    },
    {
      "cell_type": "code",
      "source": [
        "Result_binary.head()"
      ],
      "metadata": {
        "execution": {
          "iopub.status.busy": "2023-06-22T06:05:21.560170Z",
          "iopub.execute_input": "2023-06-22T06:05:21.560604Z",
          "iopub.status.idle": "2023-06-22T06:05:21.581377Z",
          "shell.execute_reply.started": "2023-06-22T06:05:21.560570Z",
          "shell.execute_reply": "2023-06-22T06:05:21.580350Z"
        },
        "trusted": true,
        "id": "mXSzO-V5m39y",
        "outputId": "2ff6eaba-26e6-4593-c2ff-a3f78d43f047"
      },
      "execution_count": null,
      "outputs": [
        {
          "execution_count": 29,
          "output_type": "execute_result",
          "data": {
            "text/plain": "                 id     toxic  severe_toxic   obscene    threat    insult  \\\n0  00001cee341fdb12  0.980697      0.980697  0.980697  0.980697  0.980697   \n1  0000247867823ef7  0.000066      0.000066  0.000066  0.000066  0.000066   \n2  00013b17ad220c46  0.043083      0.043083  0.043083  0.043083  0.043083   \n3  00017563c3f7919a  0.000153      0.000153  0.000153  0.000153  0.000153   \n4  00017695ad8997eb  0.048337      0.048337  0.048337  0.048337  0.048337   \n\n   identity_hate  \n0       0.980697  \n1       0.000066  \n2       0.043083  \n3       0.000153  \n4       0.048337  ",
            "text/html": "<div>\n<style scoped>\n    .dataframe tbody tr th:only-of-type {\n        vertical-align: middle;\n    }\n\n    .dataframe tbody tr th {\n        vertical-align: top;\n    }\n\n    .dataframe thead th {\n        text-align: right;\n    }\n</style>\n<table border=\"1\" class=\"dataframe\">\n  <thead>\n    <tr style=\"text-align: right;\">\n      <th></th>\n      <th>id</th>\n      <th>toxic</th>\n      <th>severe_toxic</th>\n      <th>obscene</th>\n      <th>threat</th>\n      <th>insult</th>\n      <th>identity_hate</th>\n    </tr>\n  </thead>\n  <tbody>\n    <tr>\n      <th>0</th>\n      <td>00001cee341fdb12</td>\n      <td>0.980697</td>\n      <td>0.980697</td>\n      <td>0.980697</td>\n      <td>0.980697</td>\n      <td>0.980697</td>\n      <td>0.980697</td>\n    </tr>\n    <tr>\n      <th>1</th>\n      <td>0000247867823ef7</td>\n      <td>0.000066</td>\n      <td>0.000066</td>\n      <td>0.000066</td>\n      <td>0.000066</td>\n      <td>0.000066</td>\n      <td>0.000066</td>\n    </tr>\n    <tr>\n      <th>2</th>\n      <td>00013b17ad220c46</td>\n      <td>0.043083</td>\n      <td>0.043083</td>\n      <td>0.043083</td>\n      <td>0.043083</td>\n      <td>0.043083</td>\n      <td>0.043083</td>\n    </tr>\n    <tr>\n      <th>3</th>\n      <td>00017563c3f7919a</td>\n      <td>0.000153</td>\n      <td>0.000153</td>\n      <td>0.000153</td>\n      <td>0.000153</td>\n      <td>0.000153</td>\n      <td>0.000153</td>\n    </tr>\n    <tr>\n      <th>4</th>\n      <td>00017695ad8997eb</td>\n      <td>0.048337</td>\n      <td>0.048337</td>\n      <td>0.048337</td>\n      <td>0.048337</td>\n      <td>0.048337</td>\n      <td>0.048337</td>\n    </tr>\n  </tbody>\n</table>\n</div>"
          },
          "metadata": {}
        }
      ]
    }
  ]
}